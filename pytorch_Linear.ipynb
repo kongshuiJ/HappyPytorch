{
 "cells": [
  {
   "cell_type": "code",
   "execution_count": null,
   "id": "33fc9b0e",
   "metadata": {},
   "outputs": [],
   "source": [
    "pytorch,nn.Linear"
   ]
  },
  {
   "cell_type": "markdown",
   "id": "38f80a62",
   "metadata": {},
   "source": [
    "下图中的A是权重矩阵，b是偏置。\n",
    "[title](https://img2020.cnblogs.com/blog/817161/202007/817161-20200723154555102-547248799.png)\n",
    "\n",
    "- **in_features**输入样本的张量大小\n",
    "- **out_features**输出样本的张量大小\n",
    "- **bias**是偏置"
   ]
  },
  {
   "cell_type": "code",
   "execution_count": 6,
   "id": "6322cf77",
   "metadata": {},
   "outputs": [
    {
     "name": "stdout",
     "output_type": "stream",
     "text": [
      "torch.Size([3, 3])\n",
      "torch.Size([3])\n",
      "torch.Size([4, 3])\n"
     ]
    }
   ],
   "source": [
    "# 测试代码\n",
    "# batch_size   : 输入样例数\n",
    "# in_features  : 输入样例特征数\n",
    "# out_features : 输出样例特征数\n",
    "\n",
    "fc     = nn.Linear(3, 3)         # [in_features, out_features]\n",
    "tensor = torch.randn(4, 3)   # [batch_size, in_features]\n",
    "output = fc(tensor)          # [batch_size, out_features]\n",
    "\n",
    "print(fc.weight.shape)\n",
    "print(fc.bias.shape)\n",
    "print(output.size())"
   ]
  },
  {
   "cell_type": "markdown",
   "id": "0e1ee454",
   "metadata": {},
   "source": [
    "这里我们假设一下AT,x,b"
   ]
  },
  {
   "cell_type": "code",
   "execution_count": 8,
   "id": "9cbb8e63",
   "metadata": {},
   "outputs": [],
   "source": [
    "import numpy as np\n",
    "AT = np.mat([[1, 2, 3],\n",
    "            [2, 1, 3],\n",
    "            [3, 1, 2],\n",
    "            [3, 2, 1]])\n",
    "\n",
    "x = np.mat([[0.1, 0.2, 0.3],\n",
    "            [0.2, 0.1, 0.3],\n",
    "            [0.3, 0.2, 0.1]])\n",
    "\n",
    "b = np.mat([1, 1, 1])"
   ]
  },
  {
   "cell_type": "code",
   "execution_count": null,
   "id": "3ec70ada",
   "metadata": {},
   "outputs": [],
   "source": [
    "输入数据x经过线性变换得到结果如下:"
   ]
  },
  {
   "cell_type": "code",
   "execution_count": 9,
   "id": "f61d4ffb",
   "metadata": {},
   "outputs": [
    {
     "name": "stdout",
     "output_type": "stream",
     "text": [
      "[[2.4 2.  2.2]\n",
      " [2.3 2.1 2.2]\n",
      " [2.1 2.1 2.4]\n",
      " [2.  2.  2.6]]\n"
     ]
    }
   ],
   "source": [
    "print((AT * x) + b)"
   ]
  },
  {
   "cell_type": "code",
   "execution_count": null,
   "id": "92ba0955",
   "metadata": {},
   "outputs": [],
   "source": [
    "输入输出的张量的shape角度来理解，相当于一个输入为[batch_size, in_features]的张量变换成了[batch_size, out_features]的输出张量。"
   ]
  }
 ],
 "metadata": {
  "kernelspec": {
   "display_name": "Python 3",
   "language": "python",
   "name": "python3"
  },
  "language_info": {
   "codemirror_mode": {
    "name": "ipython",
    "version": 3
   },
   "file_extension": ".py",
   "mimetype": "text/x-python",
   "name": "python",
   "nbconvert_exporter": "python",
   "pygments_lexer": "ipython3",
   "version": "3.6.4"
  }
 },
 "nbformat": 4,
 "nbformat_minor": 5
}
